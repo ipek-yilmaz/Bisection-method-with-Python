{
  "nbformat": 4,
  "nbformat_minor": 0,
  "metadata": {
    "kernelspec": {
      "display_name": "Python 3",
      "language": "python",
      "name": "python3"
    },
    "language_info": {
      "codemirror_mode": {
        "name": "ipython",
        "version": 3
      },
      "file_extension": ".py",
      "mimetype": "text/x-python",
      "name": "python",
      "nbconvert_exporter": "python",
      "pygments_lexer": "ipython3",
      "version": "3.7.4"
    },
    "colab": {
      "name": "Bisection_method.ipynb",
      "provenance": [],
      "include_colab_link": true
    }
  },
  "cells": [
    {
      "cell_type": "markdown",
      "metadata": {
        "id": "view-in-github",
        "colab_type": "text"
      },
      "source": [
        "<a href=\"https://colab.research.google.com/github/ipek-yilmaz/Bisection-method-with-Python/blob/master/Bisection_method.ipynb\" target=\"_parent\"><img src=\"https://colab.research.google.com/assets/colab-badge.svg\" alt=\"Open In Colab\"/></a>"
      ]
    },
    {
      "cell_type": "code",
      "metadata": {
        "id": "EV2XFNo9vmMC",
        "colab_type": "code",
        "colab": {}
      },
      "source": [
        "# f(x) = x^3 - x - 1  on [1,2] find a root of using bisection method\n",
        "\n",
        "        \n",
        "def func(x):\n",
        "    return pow(x,3) - x - 1;\n",
        "    \n",
        "def bisection_method(a,b,tolerance):\n",
        "   \n",
        "    \n",
        "    if func(a)*func(b)<0:\n",
        "        \n",
        "        while (b-a)/2 > tolerance:\n",
        "        \n",
        "            mid = (a+b)/2\n",
        "        \n",
        "            if func(mid) == 0:\n",
        "                print(f\"Exact root : {mid}\")\n",
        "            \n",
        "            elif func(a)*func(mid) < 0:\n",
        "                b = mid\n",
        "            \n",
        "            else:\n",
        "                a=mid\n",
        "                \n",
        "        return mid\n",
        "    else:\n",
        "        print(\"There is no root\")\n",
        "\n"
      ],
      "execution_count": 1,
      "outputs": []
    },
    {
      "cell_type": "code",
      "metadata": {
        "id": "6Ivpii5uvmMH",
        "colab_type": "code",
        "colab": {
          "base_uri": "https://localhost:8080/",
          "height": 52
        },
        "outputId": "137d6e62-2b3f-4d1b-dfeb-f63b456f0b10"
      },
      "source": [
        "a,b = map(int,input(\"Enter a and b respectively: \").split())\n",
        "tol = float(input(\"Enter a tolerance: \"))"
      ],
      "execution_count": 2,
      "outputs": [
        {
          "output_type": "stream",
          "text": [
            "Enter a and b respectively: 1 2\n",
            "Enter a tolerance: 0.0001\n"
          ],
          "name": "stdout"
        }
      ]
    },
    {
      "cell_type": "code",
      "metadata": {
        "id": "SgMqcJgQvmMK",
        "colab_type": "code",
        "colab": {
          "base_uri": "https://localhost:8080/",
          "height": 35
        },
        "outputId": "e0f9315d-6f4b-4f75-a5a6-7a043dbe561b"
      },
      "source": [
        "res = bisection_method(a,b,tol)\n",
        "if(type(res) != type(str)):\n",
        "    print(f\"Root : {res: .6f}\")\n",
        "else:\n",
        "    pass"
      ],
      "execution_count": 3,
      "outputs": [
        {
          "output_type": "stream",
          "text": [
            "Root :  1.324829\n"
          ],
          "name": "stdout"
        }
      ]
    }
  ]
}